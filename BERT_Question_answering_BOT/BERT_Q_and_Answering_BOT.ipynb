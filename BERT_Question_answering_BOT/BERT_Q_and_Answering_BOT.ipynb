{
  "nbformat": 4,
  "nbformat_minor": 0,
  "metadata": {
    "colab": {
      "name": "BERT_Q_and_Answering_BOT.ipynb",
      "provenance": [],
      "collapsed_sections": []
    },
    "kernelspec": {
      "name": "python3",
      "display_name": "Python 3"
    },
    "accelerator": "GPU"
  },
  "cells": [
    {
      "cell_type": "markdown",
      "metadata": {
        "id": "-PAXVohzF-bc"
      },
      "source": [
        "# BERT Question AND Answering System"
      ]
    },
    {
      "cell_type": "markdown",
      "metadata": {
        "id": "nLPxH0XwJaoK"
      },
      "source": [
        "  Siddhesh Dwarkanath Munagekar : W0747944\r\n",
        "\r\n"
      ]
    },
    {
      "cell_type": "markdown",
      "metadata": {
        "id": "YWoTdBqPIWnV"
      },
      "source": [
        "#Importing necessary Libraries"
      ]
    },
    {
      "cell_type": "code",
      "metadata": {
        "colab": {
          "base_uri": "https://localhost:8080/"
        },
        "id": "uzAQckpBF_FL",
        "outputId": "89f908b5-da69-4b12-d328-2962790f298e"
      },
      "source": [
        "!pip install transformers"
      ],
      "execution_count": 23,
      "outputs": [
        {
          "output_type": "stream",
          "text": [
            "Requirement already satisfied: transformers in /usr/local/lib/python3.6/dist-packages (4.1.1)\n",
            "Requirement already satisfied: dataclasses; python_version < \"3.7\" in /usr/local/lib/python3.6/dist-packages (from transformers) (0.8)\n",
            "Requirement already satisfied: tokenizers==0.9.4 in /usr/local/lib/python3.6/dist-packages (from transformers) (0.9.4)\n",
            "Requirement already satisfied: requests in /usr/local/lib/python3.6/dist-packages (from transformers) (2.23.0)\n",
            "Requirement already satisfied: regex!=2019.12.17 in /usr/local/lib/python3.6/dist-packages (from transformers) (2019.12.20)\n",
            "Requirement already satisfied: numpy in /usr/local/lib/python3.6/dist-packages (from transformers) (1.19.4)\n",
            "Requirement already satisfied: tqdm>=4.27 in /usr/local/lib/python3.6/dist-packages (from transformers) (4.41.1)\n",
            "Requirement already satisfied: packaging in /usr/local/lib/python3.6/dist-packages (from transformers) (20.8)\n",
            "Requirement already satisfied: sacremoses in /usr/local/lib/python3.6/dist-packages (from transformers) (0.0.43)\n",
            "Requirement already satisfied: filelock in /usr/local/lib/python3.6/dist-packages (from transformers) (3.0.12)\n",
            "Requirement already satisfied: chardet<4,>=3.0.2 in /usr/local/lib/python3.6/dist-packages (from requests->transformers) (3.0.4)\n",
            "Requirement already satisfied: idna<3,>=2.5 in /usr/local/lib/python3.6/dist-packages (from requests->transformers) (2.10)\n",
            "Requirement already satisfied: urllib3!=1.25.0,!=1.25.1,<1.26,>=1.21.1 in /usr/local/lib/python3.6/dist-packages (from requests->transformers) (1.24.3)\n",
            "Requirement already satisfied: certifi>=2017.4.17 in /usr/local/lib/python3.6/dist-packages (from requests->transformers) (2020.12.5)\n",
            "Requirement already satisfied: pyparsing>=2.0.2 in /usr/local/lib/python3.6/dist-packages (from packaging->transformers) (2.4.7)\n",
            "Requirement already satisfied: click in /usr/local/lib/python3.6/dist-packages (from sacremoses->transformers) (7.1.2)\n",
            "Requirement already satisfied: six in /usr/local/lib/python3.6/dist-packages (from sacremoses->transformers) (1.15.0)\n",
            "Requirement already satisfied: joblib in /usr/local/lib/python3.6/dist-packages (from sacremoses->transformers) (1.0.0)\n"
          ],
          "name": "stdout"
        }
      ]
    },
    {
      "cell_type": "markdown",
      "metadata": {
        "id": "xCjMHM6wH_xh"
      },
      "source": [
        "Ref :This is a modified version of the original work  by ChrisMcKormic."
      ]
    },
    {
      "cell_type": "code",
      "metadata": {
        "id": "jzMcxSFHedrm"
      },
      "source": [
        "import torch\r\n",
        "from transformers import BertForQuestionAnswering\r\n",
        "from transformers import BertTokenizer\r\n",
        "\r\n",
        "tokenizer = BertTokenizer.from_pretrained('bert-large-uncased-whole-word-masking-finetuned-squad')\r\n",
        "model = BertForQuestionAnswering.from_pretrained('bert-large-uncased-whole-word-masking-finetuned-squad')\r\n"
      ],
      "execution_count": 24,
      "outputs": []
    },
    {
      "cell_type": "code",
      "metadata": {
        "colab": {
          "base_uri": "https://localhost:8080/"
        },
        "id": "s4H1GSI1etDf",
        "outputId": "8db72297-891e-4a13-e3f8-56a1648b98d0"
      },
      "source": [
        "question = \"How many parameters does BERT-large have?\"\r\n",
        "answer_text = \"BERT-large is really big... it has 24-layers and an embedding size of 1,024, for a total of 340M parameters! Altogether it is 1.34GB, so expect it to take a couple minutes to download to your Colab instance.\"\r\n",
        "\r\n",
        "input_ids = tokenizer(question, answer_text, return_tensors='pt')\r\n",
        "start_positions = torch.tensor([1])\r\n",
        "end_positions = torch.tensor([3])\r\n",
        "outputs = model(**input_ids, start_positions=start_positions, end_positions=end_positions)\r\n",
        "print(outputs)\r\n",
        "answer_start = torch.argmax(outputs.start_logits)\r\n",
        "answer_end = torch.argmax(outputs.end_logits)\r\n",
        "print(answer_start)\r\n",
        "print(answer_end)"
      ],
      "execution_count": 25,
      "outputs": [
        {
          "output_type": "stream",
          "text": [
            "QuestionAnsweringModelOutput(loss=tensor(12.5008, grad_fn=<DivBackward0>), start_logits=tensor([[-6.4849, -6.4358, -8.1077, -8.8489, -7.8751, -8.0522, -8.4684, -8.5295,\n",
            "         -7.7074, -9.2464, -6.4849, -2.7303, -6.3473, -5.7299, -7.7780, -7.0391,\n",
            "         -6.3331, -7.3153, -7.3048, -7.4121, -2.2534, -5.3971, -0.9424, -7.3584,\n",
            "         -5.4575, -7.0769, -4.4887, -3.9272, -5.6967, -5.9506, -5.0059, -5.9812,\n",
            "          0.0530, -5.5968, -4.7093, -4.5750, -6.1786, -2.2294, -0.1904, -0.2327,\n",
            "         -2.7331,  6.4256, -2.6543, -4.5655, -4.9872, -4.9834, -5.9110, -7.8402,\n",
            "         -1.8986, -7.2123, -4.1543, -6.2354, -8.0953, -7.2329, -6.4411, -6.8384,\n",
            "         -8.1032, -7.0570, -7.7332, -6.8711, -7.1045, -8.2966, -6.1939, -8.0817,\n",
            "         -7.5501, -5.9695, -8.1008, -6.8849, -8.2273, -6.4850]],\n",
            "       grad_fn=<SqueezeBackward1>), end_logits=tensor([[-2.0629, -6.3878, -6.2450, -6.3605, -7.0722, -7.6281, -7.1160, -6.8674,\n",
            "         -7.1313, -7.1495, -2.0628, -5.0858, -4.7276, -3.5955, -6.3050, -7.1109,\n",
            "         -4.4975, -4.7221, -5.4760, -5.5441, -6.1391, -5.8593, -0.4636, -4.3720,\n",
            "         -1.0411, -5.3359, -6.2969, -6.1156, -5.1736, -4.6145, -4.8274, -6.3638,\n",
            "         -4.2078, -5.2329, -4.7127,  0.7953, -0.7376, -4.5555, -5.2985, -3.6082,\n",
            "         -3.7726,  2.7501,  5.4644,  4.1220,  1.2127, -5.5042, -5.8367, -6.0745,\n",
            "         -3.8426, -5.8273, -1.9782, -1.3083, -2.4872, -5.3204, -6.5550, -6.3885,\n",
            "         -6.8736, -6.3949, -7.0454, -6.0590, -4.5225, -6.6687, -4.0074, -6.9146,\n",
            "         -6.9742, -6.5173, -4.8760, -4.4629, -4.7580, -2.0631]],\n",
            "       grad_fn=<SqueezeBackward1>), hidden_states=None, attentions=None)\n",
            "tensor(41)\n",
            "tensor(42)\n"
          ],
          "name": "stdout"
        }
      ]
    },
    {
      "cell_type": "code",
      "metadata": {
        "id": "v1eUz9PJ8QLb"
      },
      "source": [
        "outputs = model(**input_ids, start_positions=start_positions, end_positions=end_positions)"
      ],
      "execution_count": 26,
      "outputs": []
    },
    {
      "cell_type": "code",
      "metadata": {
        "id": "R4tDSRjZjWzF",
        "colab": {
          "base_uri": "https://localhost:8080/"
        },
        "outputId": "ab672aa2-5566-4775-e81c-44787725bbcc"
      },
      "source": [
        "input_ids = tokenizer.encode(question, answer_text)\r\n",
        "tokens =tokenizer.convert_ids_to_tokens(input_ids)\r\n",
        "\r\n",
        "sep_index = input_ids.index(tokenizer.sep_token_id)\r\n",
        "num_seg_a = sep_index + 1\r\n",
        "num_seg_b = len(input_ids) - num_seg_a\r\n",
        "segment_ids = [0]*num_seg_a + [1]*num_seg_b\r\n",
        "assert len(segment_ids) == len(input_ids)\r\n",
        "\r\n",
        "outputs = model(torch.tensor([input_ids]),token_type_ids=torch.tensor([segment_ids]),\r\n",
        "                start_positions=start_positions, end_positions=end_positions)\r\n",
        "answer_start = torch.argmax(outputs.start_logits)\r\n",
        "answer_end = torch.argmax(outputs.end_logits)\r\n",
        "print(answer_start)\r\n",
        "print(answer_end)\r\n",
        "tokens = tokenizer.convert_ids_to_tokens(input_ids)\r\n",
        "    # Start with the first token.\r\n",
        "answer = tokens[answer_start]\r\n",
        "    # Select the remaining answer tokens and join them with whitespace.\r\n",
        "for i in range(answer_start + 1, answer_end + 1):\r\n",
        "          # If it's a subword token, then recombine it with the previous token.\r\n",
        "  if tokens[i][0:2] == '##':\r\n",
        "\r\n",
        "    answer += tokens[i][2:]\r\n",
        "        \r\n",
        "        # Otherwise, add a space then the token.\r\n",
        "  else:\r\n",
        "        answer += ' ' + tokens[i]\r\n",
        "\r\n",
        "print('Answer: \"' + answer + '\"')\r\n",
        "    \r\n",
        "        \r\n"
      ],
      "execution_count": 27,
      "outputs": [
        {
          "output_type": "stream",
          "text": [
            "tensor(41)\n",
            "tensor(42)\n",
            "Answer: \"340m\"\n"
          ],
          "name": "stdout"
        }
      ]
    },
    {
      "cell_type": "markdown",
      "metadata": {
        "id": "nYsV61h-Fr8H"
      },
      "source": [
        "# Function Creation to deploy it on Front End"
      ]
    },
    {
      "cell_type": "code",
      "metadata": {
        "id": "NTbHfIvhAuIQ"
      },
      "source": [
        "def question_answer(question, answer_text):\r\n",
        "    input_ids = tokenizer.encode(question, answer_text)\r\n",
        "    tokens =tokenizer.convert_ids_to_tokens(input_ids)\r\n",
        "\r\n",
        "    sep_index = input_ids.index(tokenizer.sep_token_id)\r\n",
        "    num_seg_a = sep_index + 1\r\n",
        "    num_seg_b = len(input_ids) - num_seg_a\r\n",
        "    segment_ids = [0]*num_seg_a + [1]*num_seg_b\r\n",
        "    assert len(segment_ids) == len(input_ids)\r\n",
        "\r\n",
        "    outputs = model(torch.tensor([input_ids]),token_type_ids=torch.tensor([segment_ids]),\r\n",
        "                start_positions=start_positions, end_positions=end_positions)\r\n",
        "    answer_start = torch.argmax(outputs.start_logits)\r\n",
        "    answer_end = torch.argmax(outputs.end_logits)\r\n",
        "    print(answer_start)\r\n",
        "    print(answer_end)\r\n",
        "    tokens = tokenizer.convert_ids_to_tokens(input_ids)\r\n",
        "    # Start with the first token.\r\n",
        "    answer = tokens[answer_start]\r\n",
        "    # Select the remaining answer tokens and join them with whitespace.\r\n",
        "    for i in range(answer_start + 1, answer_end + 1):\r\n",
        "\r\n",
        "      # If it's a subword token, then recombine it with the previous token.\r\n",
        "      if tokens[i][0:2] == '##':\r\n",
        "        answer += tokens[i][2:]\r\n",
        "        # Otherwise, add a space then the token.\r\n",
        "      else:\r\n",
        "        answer += ' ' + tokens[i]\r\n",
        "\r\n",
        "            \r\n",
        "\r\n",
        "    print('Answer: \"' + answer + '\"')\r\n",
        "    return answer"
      ],
      "execution_count": 28,
      "outputs": []
    },
    {
      "cell_type": "markdown",
      "metadata": {
        "id": "6QnJ4tjLGQRk"
      },
      "source": [
        "# Text Wraper to wrap up the text"
      ]
    },
    {
      "cell_type": "code",
      "metadata": {
        "colab": {
          "base_uri": "https://localhost:8080/",
          "height": 102
        },
        "id": "_aDw2oEz_YXR",
        "outputId": "df849691-f9a8-4194-d8a4-6f1928e266b1"
      },
      "source": [
        "import textwrap\r\n",
        "\r\n",
        "wrapper=textwrap.TextWrapper(width=80)\r\n",
        "bert_abstract = \"The answer is not in this sentence.The immune system is a system of many biological structures and processes within an organism that protects against disease. To function properly, an immune system must detect a wide variety of agents, known as pathogens, from viruses to parasitic worms, and distinguish them from the organism's own healthy tissue. In many species, the immune system can be classified into subsystems, such as the innate immune system versus the adaptive immune system, or humoral immunity versus cell-mediated immunity. In humans, the blood–brain barrier, blood–cerebrospinal fluid barrier, and similar fluid–brain barriers separate the peripheral immune system from the neuroimmune system which protects the brain.\"\r\n",
        "bert_abstract"
      ],
      "execution_count": 29,
      "outputs": [
        {
          "output_type": "execute_result",
          "data": {
            "application/vnd.google.colaboratory.intrinsic+json": {
              "type": "string"
            },
            "text/plain": [
              "\"The answer is not in this sentence.The immune system is a system of many biological structures and processes within an organism that protects against disease. To function properly, an immune system must detect a wide variety of agents, known as pathogens, from viruses to parasitic worms, and distinguish them from the organism's own healthy tissue. In many species, the immune system can be classified into subsystems, such as the innate immune system versus the adaptive immune system, or humoral immunity versus cell-mediated immunity. In humans, the blood–brain barrier, blood–cerebrospinal fluid barrier, and similar fluid–brain barriers separate the peripheral immune system from the neuroimmune system which protects the brain.\""
            ]
          },
          "metadata": {
            "tags": []
          },
          "execution_count": 29
        }
      ]
    },
    {
      "cell_type": "code",
      "metadata": {
        "colab": {
          "base_uri": "https://localhost:8080/",
          "height": 86
        },
        "id": "OwCZiSPIBg5m",
        "outputId": "46bf5b7b-8917-4226-ac3a-66d2c1232c57"
      },
      "source": [
        "question=\"What does the immune system protect against?\"\r\n",
        "question_answer(question,bert_abstract)"
      ],
      "execution_count": 30,
      "outputs": [
        {
          "output_type": "stream",
          "text": [
            "tensor(36)\n",
            "tensor(36)\n",
            "Answer: \"disease\"\n"
          ],
          "name": "stdout"
        },
        {
          "output_type": "execute_result",
          "data": {
            "application/vnd.google.colaboratory.intrinsic+json": {
              "type": "string"
            },
            "text/plain": [
              "'disease'"
            ]
          },
          "metadata": {
            "tags": []
          },
          "execution_count": 30
        }
      ]
    },
    {
      "cell_type": "code",
      "metadata": {
        "colab": {
          "base_uri": "https://localhost:8080/"
        },
        "id": "nhMVRk7HCQzF",
        "outputId": "a669bf84-2a26-484d-d6ca-3f352a902a44"
      },
      "source": [
        "!pip install jupyter-dash\r\n",
        "import plotly.express as px\r\n",
        "from jupyter_dash import JupyterDash\r\n",
        "import dash_core_components as dcc\r\n",
        "import dash_html_components as html\r\n",
        "from dash.dependencies import Input, Output,State# Load Data\r\n",
        "import dash"
      ],
      "execution_count": 31,
      "outputs": [
        {
          "output_type": "stream",
          "text": [
            "Requirement already satisfied: jupyter-dash in /usr/local/lib/python3.6/dist-packages (0.3.1)\n",
            "Requirement already satisfied: flask in /usr/local/lib/python3.6/dist-packages (from jupyter-dash) (1.1.2)\n",
            "Requirement already satisfied: ipython in /usr/local/lib/python3.6/dist-packages (from jupyter-dash) (5.5.0)\n",
            "Requirement already satisfied: requests in /usr/local/lib/python3.6/dist-packages (from jupyter-dash) (2.23.0)\n",
            "Requirement already satisfied: ipykernel in /usr/local/lib/python3.6/dist-packages (from jupyter-dash) (4.10.1)\n",
            "Requirement already satisfied: retrying in /usr/local/lib/python3.6/dist-packages (from jupyter-dash) (1.3.3)\n",
            "Requirement already satisfied: dash in /usr/local/lib/python3.6/dist-packages (from jupyter-dash) (1.18.1)\n",
            "Requirement already satisfied: ansi2html in /usr/local/lib/python3.6/dist-packages (from jupyter-dash) (1.6.0)\n",
            "Requirement already satisfied: itsdangerous>=0.24 in /usr/local/lib/python3.6/dist-packages (from flask->jupyter-dash) (1.1.0)\n",
            "Requirement already satisfied: click>=5.1 in /usr/local/lib/python3.6/dist-packages (from flask->jupyter-dash) (7.1.2)\n",
            "Requirement already satisfied: Werkzeug>=0.15 in /usr/local/lib/python3.6/dist-packages (from flask->jupyter-dash) (1.0.1)\n",
            "Requirement already satisfied: Jinja2>=2.10.1 in /usr/local/lib/python3.6/dist-packages (from flask->jupyter-dash) (2.11.2)\n",
            "Requirement already satisfied: pygments in /usr/local/lib/python3.6/dist-packages (from ipython->jupyter-dash) (2.6.1)\n",
            "Requirement already satisfied: decorator in /usr/local/lib/python3.6/dist-packages (from ipython->jupyter-dash) (4.4.2)\n",
            "Requirement already satisfied: prompt-toolkit<2.0.0,>=1.0.4 in /usr/local/lib/python3.6/dist-packages (from ipython->jupyter-dash) (1.0.18)\n",
            "Requirement already satisfied: simplegeneric>0.8 in /usr/local/lib/python3.6/dist-packages (from ipython->jupyter-dash) (0.8.1)\n",
            "Requirement already satisfied: traitlets>=4.2 in /usr/local/lib/python3.6/dist-packages (from ipython->jupyter-dash) (4.3.3)\n",
            "Requirement already satisfied: pexpect; sys_platform != \"win32\" in /usr/local/lib/python3.6/dist-packages (from ipython->jupyter-dash) (4.8.0)\n",
            "Requirement already satisfied: setuptools>=18.5 in /usr/local/lib/python3.6/dist-packages (from ipython->jupyter-dash) (51.0.0)\n",
            "Requirement already satisfied: pickleshare in /usr/local/lib/python3.6/dist-packages (from ipython->jupyter-dash) (0.7.5)\n",
            "Requirement already satisfied: idna<3,>=2.5 in /usr/local/lib/python3.6/dist-packages (from requests->jupyter-dash) (2.10)\n",
            "Requirement already satisfied: urllib3!=1.25.0,!=1.25.1,<1.26,>=1.21.1 in /usr/local/lib/python3.6/dist-packages (from requests->jupyter-dash) (1.24.3)\n",
            "Requirement already satisfied: certifi>=2017.4.17 in /usr/local/lib/python3.6/dist-packages (from requests->jupyter-dash) (2020.12.5)\n",
            "Requirement already satisfied: chardet<4,>=3.0.2 in /usr/local/lib/python3.6/dist-packages (from requests->jupyter-dash) (3.0.4)\n",
            "Requirement already satisfied: jupyter-client in /usr/local/lib/python3.6/dist-packages (from ipykernel->jupyter-dash) (5.3.5)\n",
            "Requirement already satisfied: tornado>=4.0 in /usr/local/lib/python3.6/dist-packages (from ipykernel->jupyter-dash) (5.1.1)\n",
            "Requirement already satisfied: six>=1.7.0 in /usr/local/lib/python3.6/dist-packages (from retrying->jupyter-dash) (1.15.0)\n",
            "Requirement already satisfied: dash-renderer==1.8.3 in /usr/local/lib/python3.6/dist-packages (from dash->jupyter-dash) (1.8.3)\n",
            "Requirement already satisfied: future in /usr/local/lib/python3.6/dist-packages (from dash->jupyter-dash) (0.16.0)\n",
            "Requirement already satisfied: plotly in /usr/local/lib/python3.6/dist-packages (from dash->jupyter-dash) (4.4.1)\n",
            "Requirement already satisfied: dash-core-components==1.14.1 in /usr/local/lib/python3.6/dist-packages (from dash->jupyter-dash) (1.14.1)\n",
            "Requirement already satisfied: dash-table==4.11.1 in /usr/local/lib/python3.6/dist-packages (from dash->jupyter-dash) (4.11.1)\n",
            "Requirement already satisfied: flask-compress in /usr/local/lib/python3.6/dist-packages (from dash->jupyter-dash) (1.8.0)\n",
            "Requirement already satisfied: dash-html-components==1.1.1 in /usr/local/lib/python3.6/dist-packages (from dash->jupyter-dash) (1.1.1)\n",
            "Requirement already satisfied: MarkupSafe>=0.23 in /usr/local/lib/python3.6/dist-packages (from Jinja2>=2.10.1->flask->jupyter-dash) (1.1.1)\n",
            "Requirement already satisfied: wcwidth in /usr/local/lib/python3.6/dist-packages (from prompt-toolkit<2.0.0,>=1.0.4->ipython->jupyter-dash) (0.2.5)\n",
            "Requirement already satisfied: ipython-genutils in /usr/local/lib/python3.6/dist-packages (from traitlets>=4.2->ipython->jupyter-dash) (0.2.0)\n",
            "Requirement already satisfied: ptyprocess>=0.5 in /usr/local/lib/python3.6/dist-packages (from pexpect; sys_platform != \"win32\"->ipython->jupyter-dash) (0.6.0)\n",
            "Requirement already satisfied: python-dateutil>=2.1 in /usr/local/lib/python3.6/dist-packages (from jupyter-client->ipykernel->jupyter-dash) (2.8.1)\n",
            "Requirement already satisfied: pyzmq>=13 in /usr/local/lib/python3.6/dist-packages (from jupyter-client->ipykernel->jupyter-dash) (20.0.0)\n",
            "Requirement already satisfied: jupyter-core>=4.6.0 in /usr/local/lib/python3.6/dist-packages (from jupyter-client->ipykernel->jupyter-dash) (4.7.0)\n",
            "Requirement already satisfied: brotli in /usr/local/lib/python3.6/dist-packages (from flask-compress->dash->jupyter-dash) (1.0.9)\n"
          ],
          "name": "stdout"
        }
      ]
    },
    {
      "cell_type": "markdown",
      "metadata": {
        "id": "XYVpmYzYD0Jt"
      },
      "source": [
        "#Code for Front End Web App....."
      ]
    },
    {
      "cell_type": "code",
      "metadata": {
        "id": "yBRwDl9gCazj"
      },
      "source": [
        "###Code for Front End Web App.....\r\n",
        "df = px.data.tips()# Build App\r\n",
        "app = JupyterDash(__name__)\r\n",
        "\r\n",
        "app.layout = html.Div([\r\n",
        "             html.H1(\"Question Answering System\"),\r\n",
        "             html.Label('How can I help You Today'),\r\n",
        "             \r\n",
        "             dcc.Input(id='question',\r\n",
        "                 placeholder='Please enter your Question here',\r\n",
        "                 type='text',\r\n",
        "                 value='',\r\n",
        "                 autoComplete='on'\r\n",
        "             ),\r\n",
        "             html.Button('Ask',id='submit-val',n_clicks=0),\r\n",
        "             html.Div(id='container-button-basic',children='Enter a value and press submit')\r\n",
        "    \r\n",
        "                      ])\r\n",
        "@app.callback(\r\n",
        "    dash.dependencies.Output('container-button-basic', 'children'),\r\n",
        "    [dash.dependencies.Input('submit-val', 'n_clicks')],\r\n",
        "    [dash.dependencies.State('question', 'value')])\r\n",
        "def update_output(n_clicks, value):\r\n",
        "  if n_clicks !=0:\r\n",
        "    \r\n",
        "    return \"Answer :\",question_answer(value,bert_abstract)"
      ],
      "execution_count": 32,
      "outputs": []
    },
    {
      "cell_type": "markdown",
      "metadata": {
        "id": "yDe8MI0hIHPQ"
      },
      "source": [
        "Developed by Siddhesh D. Munagekar\r\n",
        "W0747944"
      ]
    },
    {
      "cell_type": "markdown",
      "metadata": {
        "id": "NgM2o9-mDZGu"
      },
      "source": [
        "# External web link to see the output on front end"
      ]
    },
    {
      "cell_type": "code",
      "metadata": {
        "colab": {
          "base_uri": "https://localhost:8080/",
          "height": 50
        },
        "id": "rKMsiz0pClSy",
        "outputId": "201346ce-ecd9-4ef7-d1f6-12294392dded"
      },
      "source": [
        "app.run_server(mode='external')"
      ],
      "execution_count": 33,
      "outputs": [
        {
          "output_type": "stream",
          "text": [
            "Dash app running on:\n"
          ],
          "name": "stdout"
        },
        {
          "output_type": "display_data",
          "data": {
            "application/javascript": [
              "(async (port, path, text, element) => {\n",
              "    if (!google.colab.kernel.accessAllowed) {\n",
              "      return;\n",
              "    }\n",
              "    element.appendChild(document.createTextNode(''));\n",
              "    const url = await google.colab.kernel.proxyPort(port);\n",
              "    const anchor = document.createElement('a');\n",
              "    anchor.href = url + path;\n",
              "    anchor.target = '_blank';\n",
              "    anchor.setAttribute('data-href', url + path);\n",
              "    anchor.textContent = text;\n",
              "    element.appendChild(anchor);\n",
              "  })(8050, \"/\", \"http://127.0.0.1:8050/\", window.element)"
            ],
            "text/plain": [
              "<IPython.core.display.Javascript object>"
            ]
          },
          "metadata": {
            "tags": []
          }
        }
      ]
    },
    {
      "cell_type": "markdown",
      "metadata": {
        "id": "4o4l0I60GsOJ"
      },
      "source": [
        "# Example Questions to try on front end\r\n",
        "- What does the immune system protect against?\r\n",
        "- What is the subsystem that protects the human brain?\r\n",
        "- What are two of its subsystems?\r\n",
        "- What are the agents detected by the immune system called?"
      ]
    }
  ]
}