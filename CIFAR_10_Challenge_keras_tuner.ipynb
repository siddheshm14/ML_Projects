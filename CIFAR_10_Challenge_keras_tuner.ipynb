{
  "nbformat": 4,
  "nbformat_minor": 0,
  "metadata": {
    "colab": {
      "name": "CIFAR_10-Challenge_keras_tuner.ipynb",
      "provenance": [],
      "collapsed_sections": []
    },
    "kernelspec": {
      "name": "python3",
      "display_name": "Python 3"
    },
    "accelerator": "GPU"
  },
  "cells": [
    {
      "cell_type": "markdown",
      "metadata": {
        "id": "e8nzy9fLFrfX"
      },
      "source": [
        "# Lab 2: CIFAR-10 Challenge\n",
        "\n",
        "In this lab you will experiment with whatever ConvNet architecture/design you'd like on [CIFAR-10 image dataset](https://www.cs.toronto.edu/~kriz/cifar.html). \n",
        "\n",
        "## Part 1: Creating the network (50% of grade)\n",
        "\n",
        "**Goal:** After training, your model should achieve **at least 80%** accuracy on a **validation** set within 20 epochs. (Or as close as possible as long as there is demonstrated effort to achieve this goal.)\n",
        "\n",
        "**Data split** The training set should consist of 40000 images, the validation set should consist of 10000 images, and the test set should consist of the remaining 10000 images. **Please use the Keras `load_data()` function to import the data set.**\n",
        "\n",
        "**Implementation** All code should be in Keras/python. \n",
        "\n",
        "### Some things you can try:\n",
        "- Different number/type of layers\n",
        "- Different filter sizes \n",
        "- Adjust the number of filters used in any given layer\n",
        "- Try various pooling strategies\n",
        "- Consider using batch normalization\n",
        "- Explore different numbers of layers in your network\n",
        "- Check if adding regularization helps\n",
        "- Consider alternative optimizers\n",
        "- Try different activation functions\n",
        "\n",
        "\n",
        "### Tips for training\n",
        "When building/tuning your model, keep in mind the following points: \n",
        "\n",
        "- This is experimental, so be driven by results achieved on the validation set as opposed to what you have heard/read works well or doesn't\n",
        "- If the hyperparameters are working well, you should see improvement in the loss/accuracy within a few hundred iterations (usually within one epoch)\n",
        "- For hyperparameter tuning: start by testing a large range of hyperparameters for just a few training iterations to find the combinations of parameters that are working at all\n",
        "- Once you have found some sets of hyperparameters that seem to work, search more finely around these parameters. You may need to train for more epochs.\n",
        "- Prefer one validation to to cross-validation \n",
        "- Prefer random search to grid search for hyperparameters\n",
        "- You should use the validation set for hyperparameter search and for evaluating different architectures\n",
        "- The test set should only be used at the very end to evaluate your final model\n",
        "\n",
        "### What to provide\n",
        "\n",
        "The cell below should contain all the code necessary to run your final network on the cifar10 dataset as contained within Keras. All necessary hyperparameters should be visible either in the code or through comments. Your code should include 2 plots: one for training and validation loss per epoch and one for training and validation accuracy per epoch.  \n",
        "\n",
        "Your network should produce an accuracy of at least 80% on the validation set within 20 epochs. (Or as close as possible as long as there is demonstrated effort to achieve this goal.)\n",
        "\n",
        "You should also evaluate and report the accuracy on the test set. The test set should be used only once. That is, after you have decided on what to include in your network and tuned any hyperparameters for your final network, you should use this final network on the test set and calculate the accuracy.  \n",
        "\n",
        "**Please make sure that all code has been run and the output is visible in the notebook before submitting.**\n",
        "\n",
        "**Please note that I should be able to run the single code cell below and reproduce your results.**\n",
        "\n",
        "**All code should be in ONE code cell.**"
      ]
    },
    {
      "cell_type": "code",
      "metadata": {
        "id": "OHAh8XWbFHLg",
        "colab": {
          "base_uri": "https://localhost:8080/",
          "height": 1000
        },
        "outputId": "679a4266-696b-45f9-873b-2357080c3eec"
      },
      "source": [
        "import pandas as pd\n",
        "import numpy as np\n",
        "import matplotlib.pyplot as plt\n",
        "%matplotlib inline\n",
        "import tensorflow as tf\n",
        "from tensorflow import keras\n",
        "!pip install keras-tuner\n",
        "from sklearn.model_selection import train_test_split\n",
        "from tensorflow.keras.models import Sequential\n",
        "from tensorflow.keras.layers import Dense,Conv2D, MaxPool2D,Flatten\n",
        "from tensorflow.keras.utils import to_categorical\n",
        "from tensorflow.keras.datasets import cifar10\n",
        "from kerastuner import RandomSearch\n",
        "from kerastuner.engine.hyperparameters import HyperParameters\n",
        "\n",
        "(X_train,y_train),(X_test,y_test)=cifar10.load_data()\n",
        "X_train.shape\n",
        "X_train.shape\n",
        "X_train_1=X_train\n",
        "y_train_1=y_train\n",
        "X_train_1.shape\n",
        "\n",
        "X_train, X_val, y_train, y_val = train_test_split(X_train, y_train, test_size=0.2, random_state=42,stratify=y_train)\n",
        "\n",
        "\n",
        "# To convert pixel values in the range of 0 and 1 Just run one time\n",
        "X_train=X_train/255.0\n",
        "X_train_1=X_train_1/255.0\n",
        "X_test =X_test/255.0\n",
        "X_val=X_val/255.0\n",
        "\n",
        "y_cat_train=to_categorical(y_train,10) #10 for 10 classes\n",
        "y_cat_train_1=to_categorical(y_train_1,10) #10 for 10 classes\n",
        "\n",
        "y_cat_test=to_categorical(y_test)\n",
        "y_cat_val=to_categorical(y_val)\n",
        "\n",
        "# Building Model implemented \n",
        "\n",
        "def build_model(hp):  \n",
        "  model = keras.Sequential([\n",
        "                            # Convolutional LAYER 1\n",
        "    keras.layers.Conv2D(\n",
        "        filters=hp.Int('conv_1_filter', min_value=32, max_value=128, step=16),\n",
        "        kernel_size=hp.Choice('conv_1_kernel', values = [3,4]),\n",
        "        activation='relu',\n",
        "        padding='same',\n",
        "        input_shape=(32,32,3)\n",
        "    ),\n",
        "    keras.layers.BatchNormalization(),\n",
        "    \n",
        "              # Convolutional LAYER 2\n",
        "    keras.layers.Conv2D(\n",
        "        filters=hp.Int('conv_2_filter', min_value=32, max_value=64, step=16),\n",
        "        kernel_size=hp.Choice('conv_2_kernel', values = [3,4]),\n",
        "        activation='relu',\n",
        "        padding='same'\n",
        "    ),\n",
        "    keras.layers.BatchNormalization(),\n",
        "\n",
        "    keras.layers.MaxPool2D(pool_size=2 ),\n",
        "          # Convolutional LAYER 3\n",
        "    keras.layers.Conv2D(\n",
        "        filters=hp.Int('conv_3_filter', min_value=32, max_value=64, step=16),\n",
        "        kernel_size=hp.Choice('conv_3_kernel', values = [3,4]),\n",
        "        activation='relu',\n",
        "        padding='same'\n",
        "    ),\n",
        "    keras.layers.BatchNormalization(),    \n",
        "    \n",
        "\n",
        "        # Convolutional LAYER 4\n",
        "    keras.layers.Conv2D(\n",
        "        filters=hp.Int('conv_4_filter', min_value=32, max_value=64, step=16),\n",
        "        kernel_size=hp.Choice('conv_4_kernel', values = [3,4]),\n",
        "        activation='relu',\n",
        "        padding='same'\n",
        "    ),\n",
        "    keras.layers.BatchNormalization(),\n",
        "    keras.layers.MaxPool2D(pool_size=2 ),\n",
        "    \n",
        "              # Convolutional LAYER 5\n",
        "    keras.layers.Conv2D(\n",
        "        filters=hp.Int('conv_5_filter', min_value=32, max_value=64, step=16),\n",
        "        kernel_size=hp.Choice('conv_5_kernel', values = [3,4]),\n",
        "        activation='relu',\n",
        "        padding='same'\n",
        "    ),\n",
        "    keras.layers.BatchNormalization(),\n",
        "\n",
        "          # Convolutional LAYER 6\n",
        "    keras.layers.Conv2D(\n",
        "        filters=hp.Int('conv_6_filter', min_value=32, max_value=64, step=16),\n",
        "        kernel_size=hp.Choice('conv_6_kernel', values = [3,4]),\n",
        "        activation='relu',\n",
        "        padding='same'\n",
        "    ),\n",
        "    keras.layers.BatchNormalization(),\n",
        "    keras.layers.MaxPool2D(pool_size=2 ),\n",
        "    keras.layers.Dropout(0.2),\n",
        "\n",
        "    keras.layers.Flatten(),\n",
        "    \n",
        "    #Added Dense Fully connected network Layer\n",
        "    keras.layers.Dense(\n",
        "        units=hp.Int('dense_1_units', min_value=64, max_value=256, step=16),\n",
        "        activation='relu'\n",
        "    ),\n",
        "    keras.layers.BatchNormalization(),\n",
        "    keras.layers.Dropout(0.5),\n",
        "    \n",
        "    \n",
        "    #As our Output is of 10 classes so the number of neuron in our last dense layer should be 10\n",
        "    keras.layers.Dense(10, activation='softmax')\n",
        "  ])\n",
        "  \n",
        "    \n",
        "  model.compile(optimizer=keras.optimizers.Adam(hp.Choice('learning_rate', values=[1e-2, 1e-3])),\n",
        "              loss='categorical_crossentropy',\n",
        "              metrics=['accuracy'])\n",
        "  \n",
        "  return model\n",
        "\n",
        "\n",
        "tuner_search1=RandomSearch(build_model,\n",
        "                          objective='val_accuracy',\n",
        "                          max_trials=2,\n",
        "                          directory='output55',\n",
        "                          project_name=\"LAB2_DAB300\")\n",
        "# Increment directory value by one number e.g., 'output 55' in next runs to enable new directory for each run and store model statistics \n",
        "\n",
        "\n",
        "tuner_search1.search(X_train_1,y_cat_train_1,epochs=10,validation_split=0.2)\n",
        "\n",
        "#Picking up the best model from the trail\n",
        "\n",
        "print(\"Selecting the best model from the trail\")\n",
        "\n",
        "model=tuner_search1.get_best_models(num_models=1)[0]\n",
        "model.summary()\n",
        "\n",
        "#Early Stopping is used to stop  training when a monitored metric has stopped improving\n",
        "from tensorflow.keras.callbacks import EarlyStopping\n",
        "early_stop=EarlyStopping(monitor='val_loss',patience=2)\n",
        "\n",
        "#####Fitting The Model##################\n",
        "\n",
        "\n",
        "model1 =model.fit(X_train_1, y_cat_train_1,batch_size=96, epochs = 20, validation_split=0.2,callbacks=[early_stop])\n",
        "\n",
        "# loss and accuracy list for traning and validation\n",
        "\n",
        "metrics=pd.DataFrame(model1.history)\n",
        "metrics\n",
        "\n",
        "# Accuracy plot for traning and validation data\n",
        "print(metrics.columns)\n",
        "print(\"Training Accuracy vs Validation Accuracy\")\n",
        "print('\\n')\n",
        "metrics[['accuracy','val_accuracy']].plot()\n",
        "\n",
        "\n",
        "\n",
        "# Loss plot for traning and validation data\n",
        "print(metrics.columns)\n",
        "print('\\n')\n",
        "print(\"Training loss vs Validation loss\")\n",
        "print('\\n')\n",
        "metrics[['loss','val_loss']].plot()\n",
        "\n",
        "#########Evaluation of Test Accuracy ####################################\n",
        "\n",
        "\n",
        "\n",
        "test_loss,test_acc=model.evaluate(X_test,y_cat_test,verbose=0)\n",
        "\n",
        "print('\\n')\n",
        "\n",
        "print(\"Test Accuracy\",test_acc)"
      ],
      "execution_count": null,
      "outputs": [
        {
          "output_type": "stream",
          "text": [
            "Requirement already satisfied: keras-tuner in /usr/local/lib/python3.6/dist-packages (1.0.1)\n",
            "Requirement already satisfied: tabulate in /usr/local/lib/python3.6/dist-packages (from keras-tuner) (0.8.7)\n",
            "Requirement already satisfied: future in /usr/local/lib/python3.6/dist-packages (from keras-tuner) (0.16.0)\n",
            "Requirement already satisfied: scipy in /usr/local/lib/python3.6/dist-packages (from keras-tuner) (1.4.1)\n",
            "Requirement already satisfied: scikit-learn in /usr/local/lib/python3.6/dist-packages (from keras-tuner) (0.22.2.post1)\n",
            "Requirement already satisfied: colorama in /usr/local/lib/python3.6/dist-packages (from keras-tuner) (0.4.4)\n",
            "Requirement already satisfied: requests in /usr/local/lib/python3.6/dist-packages (from keras-tuner) (2.23.0)\n",
            "Requirement already satisfied: terminaltables in /usr/local/lib/python3.6/dist-packages (from keras-tuner) (3.1.0)\n",
            "Requirement already satisfied: numpy in /usr/local/lib/python3.6/dist-packages (from keras-tuner) (1.18.5)\n",
            "Requirement already satisfied: tqdm in /usr/local/lib/python3.6/dist-packages (from keras-tuner) (4.41.1)\n",
            "Requirement already satisfied: joblib>=0.11 in /usr/local/lib/python3.6/dist-packages (from scikit-learn->keras-tuner) (0.17.0)\n",
            "Requirement already satisfied: certifi>=2017.4.17 in /usr/local/lib/python3.6/dist-packages (from requests->keras-tuner) (2020.6.20)\n",
            "Requirement already satisfied: idna<3,>=2.5 in /usr/local/lib/python3.6/dist-packages (from requests->keras-tuner) (2.10)\n",
            "Requirement already satisfied: chardet<4,>=3.0.2 in /usr/local/lib/python3.6/dist-packages (from requests->keras-tuner) (3.0.4)\n",
            "Requirement already satisfied: urllib3!=1.25.0,!=1.25.1,<1.26,>=1.21.1 in /usr/local/lib/python3.6/dist-packages (from requests->keras-tuner) (1.24.3)\n",
            "Epoch 1/10\n",
            "   1/1250 [..............................] - ETA: 0s - loss: 3.6040 - accuracy: 0.1250WARNING:tensorflow:Callbacks method `on_train_batch_end` is slow compared to the batch time (batch time: 0.0073s vs `on_train_batch_end` time: 0.0132s). Check your callbacks.\n",
            "1250/1250 [==============================] - 19s 15ms/step - loss: 1.7037 - accuracy: 0.3877 - val_loss: 1.5525 - val_accuracy: 0.4565\n",
            "Epoch 2/10\n",
            "1250/1250 [==============================] - 19s 15ms/step - loss: 1.1787 - accuracy: 0.5849 - val_loss: 0.9560 - val_accuracy: 0.6538\n",
            "Epoch 3/10\n",
            "1250/1250 [==============================] - 19s 15ms/step - loss: 0.9676 - accuracy: 0.6658 - val_loss: 0.9227 - val_accuracy: 0.6778\n",
            "Epoch 4/10\n",
            "1250/1250 [==============================] - 19s 15ms/step - loss: 0.8553 - accuracy: 0.7059 - val_loss: 1.0256 - val_accuracy: 0.6624\n",
            "Epoch 5/10\n",
            "1250/1250 [==============================] - 19s 15ms/step - loss: 0.7810 - accuracy: 0.7335 - val_loss: 0.7892 - val_accuracy: 0.7305\n",
            "Epoch 6/10\n",
            "1250/1250 [==============================] - 19s 15ms/step - loss: 0.7147 - accuracy: 0.7566 - val_loss: 0.8037 - val_accuracy: 0.7345\n",
            "Epoch 7/10\n",
            "1250/1250 [==============================] - 19s 15ms/step - loss: 0.6562 - accuracy: 0.7796 - val_loss: 0.6737 - val_accuracy: 0.7678\n",
            "Epoch 8/10\n",
            "1250/1250 [==============================] - 19s 15ms/step - loss: 0.6101 - accuracy: 0.7926 - val_loss: 0.7764 - val_accuracy: 0.7396\n",
            "Epoch 9/10\n",
            "1250/1250 [==============================] - 19s 15ms/step - loss: 0.5702 - accuracy: 0.8077 - val_loss: 0.6876 - val_accuracy: 0.7641\n",
            "Epoch 10/10\n",
            "1250/1250 [==============================] - 19s 15ms/step - loss: 0.5342 - accuracy: 0.8173 - val_loss: 0.7385 - val_accuracy: 0.7622\n"
          ],
          "name": "stdout"
        },
        {
          "output_type": "display_data",
          "data": {
            "text/html": [
              "<span style=\"color:#4527A0\"><h1 style=\"font-size:18px\">Trial complete</h1></span>"
            ],
            "text/plain": [
              "<IPython.core.display.HTML object>"
            ]
          },
          "metadata": {
            "tags": []
          }
        },
        {
          "output_type": "display_data",
          "data": {
            "text/html": [
              "<span style=\"color:#4527A0\"><h1 style=\"font-size:18px\">Trial summary</h1></span>"
            ],
            "text/plain": [
              "<IPython.core.display.HTML object>"
            ]
          },
          "metadata": {
            "tags": []
          }
        },
        {
          "output_type": "display_data",
          "data": {
            "text/html": [
              "<span style=\"color:cyan\"> |-Trial ID: 5d831b02e212f925b67b8ab0d17c5fdd</span>"
            ],
            "text/plain": [
              "<IPython.core.display.HTML object>"
            ]
          },
          "metadata": {
            "tags": []
          }
        },
        {
          "output_type": "display_data",
          "data": {
            "text/html": [
              "<span style=\"color:cyan\"> |-Score: 0.767799973487854</span>"
            ],
            "text/plain": [
              "<IPython.core.display.HTML object>"
            ]
          },
          "metadata": {
            "tags": []
          }
        },
        {
          "output_type": "display_data",
          "data": {
            "text/html": [
              "<span style=\"color:cyan\"> |-Best step: 0</span>"
            ],
            "text/plain": [
              "<IPython.core.display.HTML object>"
            ]
          },
          "metadata": {
            "tags": []
          }
        },
        {
          "output_type": "display_data",
          "data": {
            "text/html": [
              "<span style=\"color:#7E57C2\"><h2 style=\"font-size:16px\">Hyperparameters:</h2></span>"
            ],
            "text/plain": [
              "<IPython.core.display.HTML object>"
            ]
          },
          "metadata": {
            "tags": []
          }
        },
        {
          "output_type": "display_data",
          "data": {
            "text/html": [
              "<span style=\"color:cyan\"> |-conv_1_filter: 80</span>"
            ],
            "text/plain": [
              "<IPython.core.display.HTML object>"
            ]
          },
          "metadata": {
            "tags": []
          }
        },
        {
          "output_type": "display_data",
          "data": {
            "text/html": [
              "<span style=\"color:blue\"> |-conv_1_kernel: 4</span>"
            ],
            "text/plain": [
              "<IPython.core.display.HTML object>"
            ]
          },
          "metadata": {
            "tags": []
          }
        },
        {
          "output_type": "display_data",
          "data": {
            "text/html": [
              "<span style=\"color:cyan\"> |-conv_2_filter: 48</span>"
            ],
            "text/plain": [
              "<IPython.core.display.HTML object>"
            ]
          },
          "metadata": {
            "tags": []
          }
        },
        {
          "output_type": "display_data",
          "data": {
            "text/html": [
              "<span style=\"color:blue\"> |-conv_2_kernel: 4</span>"
            ],
            "text/plain": [
              "<IPython.core.display.HTML object>"
            ]
          },
          "metadata": {
            "tags": []
          }
        },
        {
          "output_type": "display_data",
          "data": {
            "text/html": [
              "<span style=\"color:cyan\"> |-conv_3_filter: 64</span>"
            ],
            "text/plain": [
              "<IPython.core.display.HTML object>"
            ]
          },
          "metadata": {
            "tags": []
          }
        },
        {
          "output_type": "display_data",
          "data": {
            "text/html": [
              "<span style=\"color:blue\"> |-conv_3_kernel: 4</span>"
            ],
            "text/plain": [
              "<IPython.core.display.HTML object>"
            ]
          },
          "metadata": {
            "tags": []
          }
        },
        {
          "output_type": "display_data",
          "data": {
            "text/html": [
              "<span style=\"color:cyan\"> |-conv_4_filter: 32</span>"
            ],
            "text/plain": [
              "<IPython.core.display.HTML object>"
            ]
          },
          "metadata": {
            "tags": []
          }
        },
        {
          "output_type": "display_data",
          "data": {
            "text/html": [
              "<span style=\"color:blue\"> |-conv_4_kernel: 4</span>"
            ],
            "text/plain": [
              "<IPython.core.display.HTML object>"
            ]
          },
          "metadata": {
            "tags": []
          }
        },
        {
          "output_type": "display_data",
          "data": {
            "text/html": [
              "<span style=\"color:cyan\"> |-conv_5_filter: 64</span>"
            ],
            "text/plain": [
              "<IPython.core.display.HTML object>"
            ]
          },
          "metadata": {
            "tags": []
          }
        },
        {
          "output_type": "display_data",
          "data": {
            "text/html": [
              "<span style=\"color:blue\"> |-conv_5_kernel: 3</span>"
            ],
            "text/plain": [
              "<IPython.core.display.HTML object>"
            ]
          },
          "metadata": {
            "tags": []
          }
        },
        {
          "output_type": "display_data",
          "data": {
            "text/html": [
              "<span style=\"color:cyan\"> |-conv_6_filter: 64</span>"
            ],
            "text/plain": [
              "<IPython.core.display.HTML object>"
            ]
          },
          "metadata": {
            "tags": []
          }
        },
        {
          "output_type": "display_data",
          "data": {
            "text/html": [
              "<span style=\"color:blue\"> |-conv_6_kernel: 4</span>"
            ],
            "text/plain": [
              "<IPython.core.display.HTML object>"
            ]
          },
          "metadata": {
            "tags": []
          }
        },
        {
          "output_type": "display_data",
          "data": {
            "text/html": [
              "<span style=\"color:cyan\"> |-dense_1_units: 144</span>"
            ],
            "text/plain": [
              "<IPython.core.display.HTML object>"
            ]
          },
          "metadata": {
            "tags": []
          }
        },
        {
          "output_type": "display_data",
          "data": {
            "text/html": [
              "<span style=\"color:blue\"> |-learning_rate: 0.01</span>"
            ],
            "text/plain": [
              "<IPython.core.display.HTML object>"
            ]
          },
          "metadata": {
            "tags": []
          }
        },
        {
          "output_type": "stream",
          "text": [
            "Epoch 1/10\n",
            "1250/1250 [==============================] - 10s 8ms/step - loss: 1.6148 - accuracy: 0.4171 - val_loss: 1.6299 - val_accuracy: 0.4255\n",
            "Epoch 2/10\n",
            "1250/1250 [==============================] - 10s 8ms/step - loss: 1.1291 - accuracy: 0.5999 - val_loss: 1.2776 - val_accuracy: 0.5922\n",
            "Epoch 3/10\n",
            "1250/1250 [==============================] - 10s 8ms/step - loss: 0.9427 - accuracy: 0.6762 - val_loss: 0.9400 - val_accuracy: 0.6759\n",
            "Epoch 4/10\n",
            "1250/1250 [==============================] - 10s 8ms/step - loss: 0.8268 - accuracy: 0.7184 - val_loss: 0.7464 - val_accuracy: 0.7448\n",
            "Epoch 5/10\n",
            "1250/1250 [==============================] - 10s 8ms/step - loss: 0.7422 - accuracy: 0.7478 - val_loss: 0.7326 - val_accuracy: 0.7495\n",
            "Epoch 6/10\n",
            "1250/1250 [==============================] - 10s 8ms/step - loss: 0.6806 - accuracy: 0.7702 - val_loss: 0.8764 - val_accuracy: 0.7183\n",
            "Epoch 7/10\n",
            "1250/1250 [==============================] - 10s 8ms/step - loss: 0.6208 - accuracy: 0.7908 - val_loss: 0.7611 - val_accuracy: 0.7563\n",
            "Epoch 8/10\n",
            "1250/1250 [==============================] - 10s 8ms/step - loss: 0.5709 - accuracy: 0.8080 - val_loss: 0.6482 - val_accuracy: 0.7839\n",
            "Epoch 9/10\n",
            "1250/1250 [==============================] - 10s 8ms/step - loss: 0.5232 - accuracy: 0.8245 - val_loss: 0.6571 - val_accuracy: 0.7833\n",
            "Epoch 10/10\n",
            "1250/1250 [==============================] - 10s 8ms/step - loss: 0.4889 - accuracy: 0.8367 - val_loss: 0.6545 - val_accuracy: 0.7835\n"
          ],
          "name": "stdout"
        },
        {
          "output_type": "display_data",
          "data": {
            "text/html": [
              "<span style=\"color:#4527A0\"><h1 style=\"font-size:18px\">Trial complete</h1></span>"
            ],
            "text/plain": [
              "<IPython.core.display.HTML object>"
            ]
          },
          "metadata": {
            "tags": []
          }
        },
        {
          "output_type": "display_data",
          "data": {
            "text/html": [
              "<span style=\"color:#4527A0\"><h1 style=\"font-size:18px\">Trial summary</h1></span>"
            ],
            "text/plain": [
              "<IPython.core.display.HTML object>"
            ]
          },
          "metadata": {
            "tags": []
          }
        },
        {
          "output_type": "display_data",
          "data": {
            "text/html": [
              "<span style=\"color:cyan\"> |-Trial ID: 8ab3ea71df1f5c6fd1d0427c74ddec84</span>"
            ],
            "text/plain": [
              "<IPython.core.display.HTML object>"
            ]
          },
          "metadata": {
            "tags": []
          }
        },
        {
          "output_type": "display_data",
          "data": {
            "text/html": [
              "<span style=\"color:cyan\"> |-Score: 0.7839000225067139</span>"
            ],
            "text/plain": [
              "<IPython.core.display.HTML object>"
            ]
          },
          "metadata": {
            "tags": []
          }
        },
        {
          "output_type": "display_data",
          "data": {
            "text/html": [
              "<span style=\"color:cyan\"> |-Best step: 0</span>"
            ],
            "text/plain": [
              "<IPython.core.display.HTML object>"
            ]
          },
          "metadata": {
            "tags": []
          }
        },
        {
          "output_type": "display_data",
          "data": {
            "text/html": [
              "<span style=\"color:#7E57C2\"><h2 style=\"font-size:16px\">Hyperparameters:</h2></span>"
            ],
            "text/plain": [
              "<IPython.core.display.HTML object>"
            ]
          },
          "metadata": {
            "tags": []
          }
        },
        {
          "output_type": "display_data",
          "data": {
            "text/html": [
              "<span style=\"color:cyan\"> |-conv_1_filter: 64</span>"
            ],
            "text/plain": [
              "<IPython.core.display.HTML object>"
            ]
          },
          "metadata": {
            "tags": []
          }
        },
        {
          "output_type": "display_data",
          "data": {
            "text/html": [
              "<span style=\"color:blue\"> |-conv_1_kernel: 3</span>"
            ],
            "text/plain": [
              "<IPython.core.display.HTML object>"
            ]
          },
          "metadata": {
            "tags": []
          }
        },
        {
          "output_type": "display_data",
          "data": {
            "text/html": [
              "<span style=\"color:cyan\"> |-conv_2_filter: 32</span>"
            ],
            "text/plain": [
              "<IPython.core.display.HTML object>"
            ]
          },
          "metadata": {
            "tags": []
          }
        },
        {
          "output_type": "display_data",
          "data": {
            "text/html": [
              "<span style=\"color:blue\"> |-conv_2_kernel: 3</span>"
            ],
            "text/plain": [
              "<IPython.core.display.HTML object>"
            ]
          },
          "metadata": {
            "tags": []
          }
        },
        {
          "output_type": "display_data",
          "data": {
            "text/html": [
              "<span style=\"color:cyan\"> |-conv_3_filter: 48</span>"
            ],
            "text/plain": [
              "<IPython.core.display.HTML object>"
            ]
          },
          "metadata": {
            "tags": []
          }
        },
        {
          "output_type": "display_data",
          "data": {
            "text/html": [
              "<span style=\"color:blue\"> |-conv_3_kernel: 4</span>"
            ],
            "text/plain": [
              "<IPython.core.display.HTML object>"
            ]
          },
          "metadata": {
            "tags": []
          }
        },
        {
          "output_type": "display_data",
          "data": {
            "text/html": [
              "<span style=\"color:cyan\"> |-conv_4_filter: 48</span>"
            ],
            "text/plain": [
              "<IPython.core.display.HTML object>"
            ]
          },
          "metadata": {
            "tags": []
          }
        },
        {
          "output_type": "display_data",
          "data": {
            "text/html": [
              "<span style=\"color:blue\"> |-conv_4_kernel: 4</span>"
            ],
            "text/plain": [
              "<IPython.core.display.HTML object>"
            ]
          },
          "metadata": {
            "tags": []
          }
        },
        {
          "output_type": "display_data",
          "data": {
            "text/html": [
              "<span style=\"color:cyan\"> |-conv_5_filter: 64</span>"
            ],
            "text/plain": [
              "<IPython.core.display.HTML object>"
            ]
          },
          "metadata": {
            "tags": []
          }
        },
        {
          "output_type": "display_data",
          "data": {
            "text/html": [
              "<span style=\"color:blue\"> |-conv_5_kernel: 4</span>"
            ],
            "text/plain": [
              "<IPython.core.display.HTML object>"
            ]
          },
          "metadata": {
            "tags": []
          }
        },
        {
          "output_type": "display_data",
          "data": {
            "text/html": [
              "<span style=\"color:cyan\"> |-conv_6_filter: 48</span>"
            ],
            "text/plain": [
              "<IPython.core.display.HTML object>"
            ]
          },
          "metadata": {
            "tags": []
          }
        },
        {
          "output_type": "display_data",
          "data": {
            "text/html": [
              "<span style=\"color:blue\"> |-conv_6_kernel: 4</span>"
            ],
            "text/plain": [
              "<IPython.core.display.HTML object>"
            ]
          },
          "metadata": {
            "tags": []
          }
        },
        {
          "output_type": "display_data",
          "data": {
            "text/html": [
              "<span style=\"color:cyan\"> |-dense_1_units: 112</span>"
            ],
            "text/plain": [
              "<IPython.core.display.HTML object>"
            ]
          },
          "metadata": {
            "tags": []
          }
        },
        {
          "output_type": "display_data",
          "data": {
            "text/html": [
              "<span style=\"color:blue\"> |-learning_rate: 0.01</span>"
            ],
            "text/plain": [
              "<IPython.core.display.HTML object>"
            ]
          },
          "metadata": {
            "tags": []
          }
        },
        {
          "output_type": "stream",
          "text": [
            "INFO:tensorflow:Oracle triggered exit\n",
            "Selecting the best model from the trail\n",
            "Model: \"sequential\"\n",
            "_________________________________________________________________\n",
            "Layer (type)                 Output Shape              Param #   \n",
            "=================================================================\n",
            "conv2d (Conv2D)              (None, 32, 32, 64)        1792      \n",
            "_________________________________________________________________\n",
            "batch_normalization (BatchNo (None, 32, 32, 64)        256       \n",
            "_________________________________________________________________\n",
            "conv2d_1 (Conv2D)            (None, 32, 32, 32)        18464     \n",
            "_________________________________________________________________\n",
            "batch_normalization_1 (Batch (None, 32, 32, 32)        128       \n",
            "_________________________________________________________________\n",
            "max_pooling2d (MaxPooling2D) (None, 16, 16, 32)        0         \n",
            "_________________________________________________________________\n",
            "conv2d_2 (Conv2D)            (None, 16, 16, 48)        24624     \n",
            "_________________________________________________________________\n",
            "batch_normalization_2 (Batch (None, 16, 16, 48)        192       \n",
            "_________________________________________________________________\n",
            "conv2d_3 (Conv2D)            (None, 16, 16, 48)        36912     \n",
            "_________________________________________________________________\n",
            "batch_normalization_3 (Batch (None, 16, 16, 48)        192       \n",
            "_________________________________________________________________\n",
            "max_pooling2d_1 (MaxPooling2 (None, 8, 8, 48)          0         \n",
            "_________________________________________________________________\n",
            "conv2d_4 (Conv2D)            (None, 8, 8, 64)          49216     \n",
            "_________________________________________________________________\n",
            "batch_normalization_4 (Batch (None, 8, 8, 64)          256       \n",
            "_________________________________________________________________\n",
            "conv2d_5 (Conv2D)            (None, 8, 8, 48)          49200     \n",
            "_________________________________________________________________\n",
            "batch_normalization_5 (Batch (None, 8, 8, 48)          192       \n",
            "_________________________________________________________________\n",
            "max_pooling2d_2 (MaxPooling2 (None, 4, 4, 48)          0         \n",
            "_________________________________________________________________\n",
            "dropout (Dropout)            (None, 4, 4, 48)          0         \n",
            "_________________________________________________________________\n",
            "flatten (Flatten)            (None, 768)               0         \n",
            "_________________________________________________________________\n",
            "dense (Dense)                (None, 112)               86128     \n",
            "_________________________________________________________________\n",
            "batch_normalization_6 (Batch (None, 112)               448       \n",
            "_________________________________________________________________\n",
            "dropout_1 (Dropout)          (None, 112)               0         \n",
            "_________________________________________________________________\n",
            "dense_1 (Dense)              (None, 10)                1130      \n",
            "=================================================================\n",
            "Total params: 269,130\n",
            "Trainable params: 268,298\n",
            "Non-trainable params: 832\n",
            "_________________________________________________________________\n",
            "Epoch 1/20\n",
            "417/417 [==============================] - 7s 18ms/step - loss: 0.3636 - accuracy: 0.8773 - val_loss: 0.6023 - val_accuracy: 0.8110\n",
            "Epoch 2/20\n",
            "417/417 [==============================] - 7s 17ms/step - loss: 0.3075 - accuracy: 0.8962 - val_loss: 0.6005 - val_accuracy: 0.8105\n",
            "Epoch 3/20\n",
            "417/417 [==============================] - 7s 17ms/step - loss: 0.2771 - accuracy: 0.9047 - val_loss: 0.6134 - val_accuracy: 0.8170\n",
            "Epoch 4/20\n",
            "417/417 [==============================] - 7s 17ms/step - loss: 0.2613 - accuracy: 0.9091 - val_loss: 0.7604 - val_accuracy: 0.7828\n",
            "Index(['loss', 'accuracy', 'val_loss', 'val_accuracy'], dtype='object')\n",
            "Training loss vs Validation loss\n",
            "\n",
            "\n",
            "Index(['loss', 'accuracy', 'val_loss', 'val_accuracy'], dtype='object')\n",
            "\n",
            "\n",
            "Training loss vs Validation loss\n",
            "\n",
            "\n",
            "\n",
            "\n",
            "Test Accuracy 0.7842000126838684\n"
          ],
          "name": "stdout"
        },
        {
          "output_type": "display_data",
          "data": {
            "image/png": "[encoded data removed]",
            "text/plain": [
              "<Figure size 432x288 with 1 Axes>"
            ]
          },
          "metadata": {
            "tags": [],
            "needs_background": "light"
          }
        },
        {
          "output_type": "display_data",
          "data": {
            "image/png": "[encoded data removed]",
            "text/plain": [
              "<Figure size 432x288 with 1 Axes>"
            ]
          },
          "metadata": {
            "tags": [],
            "needs_background": "light"
          }
        }
      ]
    },
    {
      "cell_type": "markdown",
      "metadata": {
        "id": "AsI-3a6OF4nc"
      },
      "source": [
        "Part 2: Describe What you did (50% of grade)\n",
        "All the work you did leading up to your final model from Part 1 should be summarized in this section. This should be a logical and well-organized summary of the various experiments that were tried in Part 1. You should write an explanation of what you did and how you made decisions. Upon reading this section I should understand the reasoning that lead you to your final model. All references should be included in the noted section below.\n",
        "\n",
        "See this guide for how to format markdown cells in Jupyter notebooks. For instance, it may be convenient to report your results in table format.\n",
        "\n",
        "Type Markdown and LaTeX: 𝛼2\n",
        "References\n",
        "Please include all references used in completing this lab: books, tutorials, blogs, github, etc.\n",
        "\n",
        "Reference details and link: \n",
        "Reference details and link: "
      ]
    },
    {
      "cell_type": "markdown",
      "metadata": {
        "id": "hTjha0flGFq_"
      },
      "source": [
        "**Step1:** Importing required libraries and  installing keras tuner\n",
        "\n",
        "**Step2:** Splitting the CIFAR10 data in required rows for traning, test and validation splits\n",
        "\n",
        "**Step 3:** Dividing data(X) by 255 to scale the data to a standard format within range of 0 to 1\n",
        "And convert the labels(y) to categorical values from 0 to 9 where each number denotes a one hot encoded specific class\n",
        "\n",
        "**Step 4:** The designed CNN model contains the following blocks structurally\n",
        "\n",
        "1.  6 convolution layers - Each has below sub filters from keras tuner\n",
        "\n",
        "> \n",
        "\n",
        "*   **Keras tuner filter selector** to select number of filters from the range of (32-64) by doing iteration\n",
        "*   **Keras tuner filter_size** To selects best filter size to be used for that particular convolutional layer by selecting kernel size (between 3,4) \n",
        "*   'RELU' Activation function\n",
        "*   Padding = 'same': Implements padding surrounding the image\n",
        "*   Batch Normalization- To normalize the output of a convolution layer's mean values close to zero and standard deviation within 1 to avoid large differences in output parameters\n",
        "*   Max Pool layer after every 2 convolutional layers of pool size 2 (total of 3 in the network)\n",
        "*   One Drop out layer of 0.2  to randomly drop 20% of neurons in the applied layer .\n",
        "\n",
        "2.   One Fully Connected Neural Network\n",
        "\n",
        "*   **Keras tuner  Neuron selector** to select best number of neurons in range of 64 to 256\n",
        "*   'RELU' Activation function\n",
        "*   Batch Normalization \n",
        "*   One Drop out layer of 0.5(to randomly drop 50% of neurons in the applied layer) at the last convolution layer\n",
        "*   second dense layer of 10 neurons\n",
        "*   'softmax' activation\n",
        "\n",
        "3.   Compile\n",
        "\n",
        "*   **keras tuner learning rate selector** to select learning rate between 0.001 and 0.003\n",
        "*   Loss = categorical_crossentropy to deal with one hot encoded  2 dimentional Image labels which are mutually exclusive in nature. \n",
        "*   Metrics = accuracy this is used to monitor train accuracy\n",
        "\n",
        "**Keras Tuner ** - We have implemented Keras Tuner for tuning hyperParameter such as number of filter, filter size, Number of neurons in dense layer and learning rate of optimizer to gain best validation Accuracy.For that we built one function named build_model.\n",
        "\n",
        "\n",
        "**Step 5:** Best hyper parameters selection using Random search function in keras tuner.This Function is used to execute our modelfunction\n",
        "*   This step uses as predefined function function \"RandomSearch\" with parameters.This function performs the iteration loop, which evaluates a certain number of hyperparameter combinations as output\n",
        "\n",
        "1.   Model which is referred/chosen to predict( model_built function above in step 4)\n",
        "2.   objective; 'val_accuracy' ( validation accuracy is parameter of examination)\n",
        "3. Max trails: number of trails to carry out this random search validation\n",
        "4. directory : temporary allocation of code block to store the results\n",
        "5. project_name : Name of the project\n",
        "\n",
        "**Step 6:**Upon above function execution derive parameters for the network to acheive best performance and assign the model to the variable\n",
        "\n",
        "**Step 7:**fit the model to the data enabling early stopping\n",
        "\n",
        "*  Early Stopping: Functionality to observe saturation of learning by the model on the data and stop at the best validation and traning accuracy\n",
        "\n",
        "**Step 8:**Demographics and plots\n",
        "\n",
        "*   Derive list of accuracies and loss for traning and validation acquired from above fit's epochs.\n",
        "*   derive line plot for losses and accuracies for traning and validation data\n",
        "\n",
        "**Step 9:**Test Data Accuracy\n",
        "\n",
        "*  Evaluate the model accuracy for Test Data \n",
        "\n",
        "**Achieved a validation accuracy of 81.09% and test accuracy of 80%**\n",
        "\n",
        "**Reference Links:**\n",
        "https://machinelearningmastery.com/how-to-develop-a-cnn-from-scratch-for-cifar-10-photo-classification/\n",
        "\n",
        "https://www.sicara.ai/blog/hyperparameter-tuning-keras-tuner\n",
        "\n",
        "**Project By**\n",
        "Siddhesh Dwarkanath Munagekar: 0747944,\n",
        "Chaitanya Dutt M V : 0749773 ,\n",
        "\n",
        "\n",
        "\n",
        "\n",
        "\n",
        "\n",
        "\n",
        "\n",
        "\n",
        "\n",
        "\n",
        "\n",
        "\n",
        "\n",
        "\n",
        "\n",
        "\n",
        "\n",
        "\n",
        "\n",
        "\n",
        "\n",
        "   \n",
        "\n",
        "\n",
        "\n",
        "\n",
        "\n",
        "\n",
        "\n",
        "\n",
        "\n",
        "\n",
        "\n",
        "\n",
        "\n",
        "\n",
        "\n",
        "           "
      ]
    }
  ]
}