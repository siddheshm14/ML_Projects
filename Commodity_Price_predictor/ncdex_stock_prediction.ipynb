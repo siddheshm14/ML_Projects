{
  "nbformat": 4,
  "nbformat_minor": 0,
  "metadata": {
    "colab": {
      "name": "ncdex_stock_prediction.ipynb",
      "provenance": [],
      "collapsed_sections": []
    },
    "kernelspec": {
      "name": "python3",
      "display_name": "Python 3"
    }
  },
  "cells": [
    {
      "cell_type": "code",
      "metadata": {
        "id": "llmUEF59UH4R",
        "colab": {
          "base_uri": "https://localhost:8080/"
        },
        "outputId": "bd476433-a88c-415a-ce05-c3525e899139"
      },
      "source": [
        "import numpy as np\r\n",
        "import matplotlib.pyplot as plt\r\n",
        "import pandas as pd\r\n",
        "from google.colab import drive\r\n",
        "drive.mount('/content/drive')"
      ],
      "execution_count": 1,
      "outputs": [
        {
          "output_type": "stream",
          "text": [
            "Mounted at /content/drive\n"
          ],
          "name": "stdout"
        }
      ]
    },
    {
      "cell_type": "code",
      "metadata": {
        "id": "xuYQ6mqMjP5d",
        "colab": {
          "base_uri": "https://localhost:8080/"
        },
        "outputId": "932c9700-67d6-4f66-d54c-51910ed06ae4"
      },
      "source": [
        "df= pd.read_csv('/content/drive/MyDrive/NCDEX/ncdex_stock_data.csv')\r\n",
        "df.shape"
      ],
      "execution_count": 2,
      "outputs": [
        {
          "output_type": "execute_result",
          "data": {
            "text/plain": [
              "(4087, 19)"
            ]
          },
          "metadata": {
            "tags": []
          },
          "execution_count": 2
        }
      ]
    },
    {
      "cell_type": "code",
      "metadata": {
        "id": "xp9jB3MjVNm5"
      },
      "source": [
        "df.head()\r\n",
        "df=df[['Commodity','Closing Price']]\r\n",
        "df=df.dropna(subset=['Closing Price'])\r\n",
        "\r\n",
        "commodity_list=df['Commodity'].unique().tolist()\r\n"
      ],
      "execution_count": 3,
      "outputs": []
    },
    {
      "cell_type": "code",
      "metadata": {
        "id": "ash2-fGOjYZz",
        "colab": {
          "base_uri": "https://localhost:8080/"
        },
        "outputId": "4def397e-f311-457e-cc02-5610b9c4c295"
      },
      "source": [
        "df['Commodity'].value_counts()\r\n",
        "\r\n"
      ],
      "execution_count": 4,
      "outputs": [
        {
          "output_type": "execute_result",
          "data": {
            "text/plain": [
              "SOY_OIL                   337\n",
              "COTTON29MM                292\n",
              "SOYABEAN                  251\n",
              "RAPE_MUSTARD_SEEDS        248\n",
              "SUGARM                    234\n",
              "CRUDE_PALM_OIL            220\n",
              "GUARGUM_5MT               205\n",
              "MAIZEKHARIF               205\n",
              "CASTORSEEDNEW             205\n",
              "COTTONSEEDOILCAKEAKOLA    205\n",
              "GUAR_SEED10               205\n",
              "WHEATKOTA                 205\n",
              "CHANA                     205\n",
              "BARLEY                    204\n",
              "TURMERIC                  190\n",
              "JEERA                     161\n",
              "CORIANDER                 161\n",
              "PEPPER                    136\n",
              "KAPASNEW                   89\n",
              "MAIZERABI                  83\n",
              "NCDEX FUTURE INDEX         44\n",
              "Name: Commodity, dtype: int64"
            ]
          },
          "metadata": {
            "tags": []
          },
          "execution_count": 4
        }
      ]
    },
    {
      "cell_type": "code",
      "metadata": {
        "id": "HzavN7JVHGJf"
      },
      "source": [
        "df1 =df[df['Commodity']=='SOY_OIL'].reset_index(drop =True)['Closing Price']"
      ],
      "execution_count": 5,
      "outputs": []
    },
    {
      "cell_type": "code",
      "metadata": {
        "colab": {
          "base_uri": "https://localhost:8080/"
        },
        "id": "jK2nCaqWIYrc",
        "outputId": "b9de99b4-92b6-417a-be88-ad3901837eb1"
      },
      "source": [
        "len(df1)"
      ],
      "execution_count": 6,
      "outputs": [
        {
          "output_type": "execute_result",
          "data": {
            "text/plain": [
              "337"
            ]
          },
          "metadata": {
            "tags": []
          },
          "execution_count": 6
        }
      ]
    },
    {
      "cell_type": "code",
      "metadata": {
        "colab": {
          "base_uri": "https://localhost:8080/",
          "height": 282
        },
        "id": "erc0Pz3DVrP3",
        "outputId": "a48983e2-77e8-48e7-fa91-b85d0884a846"
      },
      "source": [
        "plt.plot(df1)"
      ],
      "execution_count": 7,
      "outputs": [
        {
          "output_type": "execute_result",
          "data": {
            "text/plain": [
              "[<matplotlib.lines.Line2D at 0x7f60f495a6d8>]"
            ]
          },
          "metadata": {
            "tags": []
          },
          "execution_count": 7
        },
        {
          "output_type": "display_data",
          "data": {
            "image/png": "[encoded data removed]",
            "text/plain": [
              "<Figure size 432x288 with 1 Axes>"
            ]
          },
          "metadata": {
            "tags": [],
            "needs_background": "light"
          }
        }
      ]
    },
    {
      "cell_type": "code",
      "metadata": {
        "id": "n34alprrWmNY"
      },
      "source": [
        "from sklearn.preprocessing import MinMaxScaler\r\n",
        "scaler=MinMaxScaler(feature_range=(0,1))\r\n",
        "df1=scaler.fit_transform(np.array(df1).reshape(-1,1))"
      ],
      "execution_count": 8,
      "outputs": []
    },
    {
      "cell_type": "code",
      "metadata": {
        "id": "E5CLbcljXNUA"
      },
      "source": [
        ""
      ],
      "execution_count": 8,
      "outputs": []
    },
    {
      "cell_type": "code",
      "metadata": {
        "id": "d1Kq4qKXZBCu"
      },
      "source": [
        "##Spitting dataset into train test split\r\n",
        "training_size=int(len(df1)*0.75)\r\n",
        "test_size=len(df1)-training_size\r\n",
        "train_set,test_set=df1[0:training_size,:],df1[training_size:len(df1),:1]"
      ],
      "execution_count": 9,
      "outputs": []
    },
    {
      "cell_type": "markdown",
      "metadata": {
        "id": "deCcPPB9lys3"
      },
      "source": [
        "## Splitting the train_set into X_train , y_train and test_set into X_test,y_test"
      ]
    },
    {
      "cell_type": "code",
      "metadata": {
        "id": "gD4yGoP8aIXk"
      },
      "source": [
        "#Convert array of values into dataset_matrix\r\n",
        "def create_dataset(dataset,time_step):\r\n",
        "  dataX,dataY=[],[]\r\n",
        "  for i in range(len(dataset)-time_step-1):\r\n",
        "    a=dataset[i:(i+time_step),0]\r\n",
        "    dataX.append(a)\r\n",
        "    dataY.append(dataset[i+time_step,0])\r\n",
        "  return np.array(dataX),np.array(dataY)"
      ],
      "execution_count": 10,
      "outputs": []
    },
    {
      "cell_type": "code",
      "metadata": {
        "id": "fcL8oIYaauzd"
      },
      "source": [
        "time_step=10\r\n",
        "X_train,y_train=create_dataset(train_set,time_step)\r\n",
        "X_test,y_test=create_dataset(test_set,time_step)\r\n"
      ],
      "execution_count": 11,
      "outputs": []
    },
    {
      "cell_type": "code",
      "metadata": {
        "colab": {
          "base_uri": "https://localhost:8080/"
        },
        "id": "tLMezFOSmyR5",
        "outputId": "339139b1-230f-4210-bdba-bea889478b44"
      },
      "source": [
        "print(X_train.shape)\r\n",
        "print(X_test.shape)\r\n"
      ],
      "execution_count": 12,
      "outputs": [
        {
          "output_type": "stream",
          "text": [
            "(241, 10)\n",
            "(74, 10)\n"
          ],
          "name": "stdout"
        }
      ]
    },
    {
      "cell_type": "code",
      "metadata": {
        "id": "Zmki6bKno9cj"
      },
      "source": [
        "#reshape input as [samples,time_step,feature] convert it to 3 dimentional array as required by LSTM\r\n",
        "X_train=X_train.reshape(X_train.shape[0],X_train.shape[1],1)\r\n",
        "X_test= X_test.reshape(X_test.shape[0],X_test.shape[1],1)"
      ],
      "execution_count": 13,
      "outputs": []
    },
    {
      "cell_type": "code",
      "metadata": {
        "id": "z2DiNB3EtkUV"
      },
      "source": [
        "#Creating a stacked LSTM model\r\n",
        "from tensorflow.keras.models import Sequential\r\n",
        "from tensorflow.keras.layers import Dense,LSTM,Flatten\r\n",
        "\r\n",
        "model=Sequential()\r\n",
        "model.add(LSTM(50,return_sequences=True,input_shape=(time_step,1)))\r\n",
        "model.add(LSTM(50,return_sequences=True))\r\n",
        "model.add(LSTM(50))\r\n",
        "model.add(Dense(1))\r\n",
        "model.compile(loss='mean_squared_error',optimizer='adam')\r\n",
        "\r\n",
        "\r\n",
        "\r\n"
      ],
      "execution_count": 14,
      "outputs": []
    },
    {
      "cell_type": "code",
      "metadata": {
        "colab": {
          "base_uri": "https://localhost:8080/"
        },
        "id": "2kC0o-KFy0cx",
        "outputId": "7980f9c3-f63f-408c-eb5c-743be64ff01a"
      },
      "source": [
        "model.fit(X_train,y_train,validation_data=(X_test,y_test),epochs=100,batch_size=64,verbose=0)"
      ],
      "execution_count": 15,
      "outputs": [
        {
          "output_type": "execute_result",
          "data": {
            "text/plain": [
              "<tensorflow.python.keras.callbacks.History at 0x7f60af183c50>"
            ]
          },
          "metadata": {
            "tags": []
          },
          "execution_count": 15
        }
      ]
    },
    {
      "cell_type": "code",
      "metadata": {
        "id": "wiAxpeG94-hc"
      },
      "source": [
        "train_predict=model.predict(X_train)\r\n",
        "test_predict=model.predict(X_test)"
      ],
      "execution_count": 16,
      "outputs": []
    },
    {
      "cell_type": "code",
      "metadata": {
        "colab": {
          "base_uri": "https://localhost:8080/"
        },
        "id": "Oh11v7h26swY",
        "outputId": "27422a42-479f-496c-9520-44ea2837a42e"
      },
      "source": [
        "import math\r\n",
        "from sklearn.metrics import mean_squared_error\r\n",
        "math.sqrt(mean_squared_error(y_train,train_predict))\r\n",
        "math.sqrt(mean_squared_error(y_test,test_predict))"
      ],
      "execution_count": 17,
      "outputs": [
        {
          "output_type": "execute_result",
          "data": {
            "text/plain": [
              "0.15114003499505982"
            ]
          },
          "metadata": {
            "tags": []
          },
          "execution_count": 17
        }
      ]
    },
    {
      "cell_type": "code",
      "metadata": {
        "id": "RljGebUR8D4t"
      },
      "source": [
        "\r\n"
      ],
      "execution_count": 17,
      "outputs": []
    },
    {
      "cell_type": "code",
      "metadata": {
        "colab": {
          "base_uri": "https://localhost:8080/"
        },
        "id": "KlBH9AQmIR7E",
        "outputId": "088b4b6e-2522-4d33-b474-65c807dc9a89"
      },
      "source": [
        "len(test_set)-time_step"
      ],
      "execution_count": 18,
      "outputs": [
        {
          "output_type": "execute_result",
          "data": {
            "text/plain": [
              "75"
            ]
          },
          "metadata": {
            "tags": []
          },
          "execution_count": 18
        }
      ]
    },
    {
      "cell_type": "code",
      "metadata": {
        "id": "5wlmpv9i_Czv"
      },
      "source": [
        "x_input=test_set[(len(test_set)-time_step):].reshape(1,-1)"
      ],
      "execution_count": 19,
      "outputs": []
    },
    {
      "cell_type": "code",
      "metadata": {
        "colab": {
          "base_uri": "https://localhost:8080/"
        },
        "id": "r8-5SnheADhu",
        "outputId": "77024440-b1c1-4096-8502-b3d7b724917d"
      },
      "source": [
        "x_input.shape"
      ],
      "execution_count": 20,
      "outputs": [
        {
          "output_type": "execute_result",
          "data": {
            "text/plain": [
              "(1, 10)"
            ]
          },
          "metadata": {
            "tags": []
          },
          "execution_count": 20
        }
      ]
    },
    {
      "cell_type": "code",
      "metadata": {
        "id": "EmviTtpeMjlp"
      },
      "source": [
        "#Converting it to list\r\n",
        "temp_input=list(x_input)\r\n",
        "#Arranging list vertically\r\n",
        "temp_input=temp_input[0].tolist()"
      ],
      "execution_count": 21,
      "outputs": []
    },
    {
      "cell_type": "code",
      "metadata": {
        "colab": {
          "base_uri": "https://localhost:8080/"
        },
        "id": "QOR9UCNpM6pb",
        "outputId": "9e263ac5-61f4-4482-f9d7-8fc09daa2c37"
      },
      "source": [
        "temp_input"
      ],
      "execution_count": 22,
      "outputs": [
        {
          "output_type": "execute_result",
          "data": {
            "text/plain": [
              "[0.434812760055479,\n",
              " 0.45561719833564496,\n",
              " 0.9396671289875176,\n",
              " 0.8758668515950063,\n",
              " 0.7836338418862692,\n",
              " 0.6900138696255205,\n",
              " 0.414008321775313,\n",
              " 0.434812760055479,\n",
              " 0.45561719833564496,\n",
              " 0.45561719833564496]"
            ]
          },
          "metadata": {
            "tags": []
          },
          "execution_count": 22
        }
      ]
    },
    {
      "cell_type": "code",
      "metadata": {
        "colab": {
          "base_uri": "https://localhost:8080/"
        },
        "id": "xG1DeWrpNXSW",
        "outputId": "c0137547-8f12-4f4d-f671-ec450888eaa6"
      },
      "source": [
        "#demonstrate prediction for next 10 days\r\n",
        "from numpy import array\r\n",
        "lst_output=[]\r\n",
        "future_day=10\r\n",
        "n_steps=10\r\n",
        "i=0\r\n",
        "#Forcast next 10 days output\r\n",
        "while(i<future_day):\r\n",
        "\r\n",
        "  if(len(temp_input) >10):\r\n",
        "\r\n",
        "    x_input=np.array(temp_input[1:])\r\n",
        "    print(\"{} day input {}\".format(i,x_input))\r\n",
        "    x_input=x_input.reshape(1,-1)\r\n",
        "    #Converting to 3d array for lstm\r\n",
        "    x_input=x_input.reshape(1,n_steps,1)\r\n",
        "    #print(x_input)\r\n",
        "    ypred=model.predict(x_input,verbose=0)\r\n",
        "    print(\"{} day predicted output {}\".format(i,ypred))\r\n",
        "    #adding predicted output  to temp_input list\r\n",
        "    temp_input.extend(ypred[0].tolist())\r\n",
        "    temp_input=temp_input[1:]\r\n",
        "\r\n",
        "    #print(temp_input)\r\n",
        "    lst_output.extend(ypred.tolist())\r\n",
        "    i=i+1\r\n",
        "  else:\r\n",
        "    x_input=x_input.reshape((1,n_steps,1))\r\n",
        "    ypred=model.predict(x_input,verbose=0)\r\n",
        "    print(\"Predicted y of 0 day\",ypred[0])\r\n",
        "    #Addding ypred value in temp_input(previous input)\r\n",
        "    temp_input.extend(ypred[0].tolist())\r\n",
        "    print(len(temp_input))\r\n",
        "    lst_output.extend(ypred.tolist())\r\n",
        "    i=i+1\r\n",
        "\r\n",
        "print(lst_output)\r\n",
        "\r\n",
        "\r\n"
      ],
      "execution_count": 23,
      "outputs": [
        {
          "output_type": "stream",
          "text": [
            "Predicted y of 0 day [0.8031494]\n",
            "11\n",
            "1 day input [0.4556172  0.93966713 0.87586685 0.78363384 0.69001387 0.41400832\n",
            " 0.43481276 0.4556172  0.4556172  0.8031494 ]\n",
            "1 day predicted output [[0.9295566]]\n",
            "2 day input [0.93966713 0.87586685 0.78363384 0.69001387 0.41400832 0.43481276\n",
            " 0.4556172  0.4556172  0.8031494  0.92955661]\n",
            "2 day predicted output [[0.911613]]\n",
            "3 day input [0.87586685 0.78363384 0.69001387 0.41400832 0.43481276 0.4556172\n",
            " 0.4556172  0.8031494  0.92955661 0.91161299]\n",
            "3 day predicted output [[0.6248794]]\n",
            "4 day input [0.78363384 0.69001387 0.41400832 0.43481276 0.4556172  0.4556172\n",
            " 0.8031494  0.92955661 0.91161299 0.62487942]\n",
            "4 day predicted output [[0.4147994]]\n",
            "5 day input [0.69001387 0.41400832 0.43481276 0.4556172  0.4556172  0.8031494\n",
            " 0.92955661 0.91161299 0.62487942 0.41479939]\n",
            "5 day predicted output [[0.34192184]]\n",
            "6 day input [0.41400832 0.43481276 0.4556172  0.4556172  0.8031494  0.92955661\n",
            " 0.91161299 0.62487942 0.41479939 0.34192184]\n",
            "6 day predicted output [[0.40321425]]\n",
            "7 day input [0.43481276 0.4556172  0.4556172  0.8031494  0.92955661 0.91161299\n",
            " 0.62487942 0.41479939 0.34192184 0.40321425]\n",
            "7 day predicted output [[0.60879827]]\n",
            "8 day input [0.4556172  0.4556172  0.8031494  0.92955661 0.91161299 0.62487942\n",
            " 0.41479939 0.34192184 0.40321425 0.60879827]\n",
            "8 day predicted output [[0.8115273]]\n",
            "9 day input [0.4556172  0.8031494  0.92955661 0.91161299 0.62487942 0.41479939\n",
            " 0.34192184 0.40321425 0.60879827 0.81152731]\n",
            "9 day predicted output [[0.9193586]]\n",
            "[[0.803149402141571], [0.9295566082000732], [0.9116129875183105], [0.6248794198036194], [0.41479939222335815], [0.3419218361377716], [0.4032142460346222], [0.6087982654571533], [0.8115273118019104], [0.9193586111068726]]\n"
          ],
          "name": "stdout"
        }
      ]
    },
    {
      "cell_type": "code",
      "metadata": {
        "id": "RoRA0xK9Plzy"
      },
      "source": [
        "previous_days=np.arange(1,n_steps+1)\r\n",
        "predicted_future=np.arange(n_steps+1,future_day+ n_steps+1)"
      ],
      "execution_count": 24,
      "outputs": []
    },
    {
      "cell_type": "code",
      "metadata": {
        "colab": {
          "base_uri": "https://localhost:8080/"
        },
        "id": "jYTeJHUnTHyy",
        "outputId": "31e10e1d-501d-4f2f-cce9-1b8ec8752125"
      },
      "source": [
        "print(previous_days)\r\n",
        "print(predicted_future)"
      ],
      "execution_count": 25,
      "outputs": [
        {
          "output_type": "stream",
          "text": [
            "[ 1  2  3  4  5  6  7  8  9 10]\n",
            "[11 12 13 14 15 16 17 18 19 20]\n"
          ],
          "name": "stdout"
        }
      ]
    },
    {
      "cell_type": "code",
      "metadata": {
        "colab": {
          "base_uri": "https://localhost:8080/"
        },
        "id": "hPKWHqIMiajt",
        "outputId": "4b27f2da-5f8b-4cf0-8b79-5f57deef008d"
      },
      "source": [
        "#Experiment\r\n",
        "previous_days1=np.arange(len(df1)-n_steps,len(df1))\r\n",
        "predicted_future1=np.arange(len(df1),len(df1)+future_day)\r\n",
        "print(previous_days1)\r\n",
        "print(predicted_future1)\r\n"
      ],
      "execution_count": 26,
      "outputs": [
        {
          "output_type": "stream",
          "text": [
            "[327 328 329 330 331 332 333 334 335 336]\n",
            "[337 338 339 340 341 342 343 344 345 346]\n"
          ],
          "name": "stdout"
        }
      ]
    },
    {
      "cell_type": "code",
      "metadata": {
        "colab": {
          "base_uri": "https://localhost:8080/"
        },
        "id": "68l4-TqNbEND",
        "outputId": "36b3583e-01d9-42e1-86d6-824b5f305037"
      },
      "source": [
        "outputlist=df1.tolist()\r\n",
        "outputlist.extend(lst_output)\r\n",
        "df1[len(df1)-n_steps:]"
      ],
      "execution_count": 27,
      "outputs": [
        {
          "output_type": "execute_result",
          "data": {
            "text/plain": [
              "array([[0.43481276],\n",
              "       [0.4556172 ],\n",
              "       [0.93966713],\n",
              "       [0.87586685],\n",
              "       [0.78363384],\n",
              "       [0.69001387],\n",
              "       [0.41400832],\n",
              "       [0.43481276],\n",
              "       [0.4556172 ],\n",
              "       [0.4556172 ]])"
            ]
          },
          "metadata": {
            "tags": []
          },
          "execution_count": 27
        }
      ]
    },
    {
      "cell_type": "code",
      "metadata": {
        "colab": {
          "base_uri": "https://localhost:8080/"
        },
        "id": "ROfYyysncSaZ",
        "outputId": "2f264b6c-c32f-4874-e24e-5b029a7673f1"
      },
      "source": [
        "lst_output"
      ],
      "execution_count": 28,
      "outputs": [
        {
          "output_type": "execute_result",
          "data": {
            "text/plain": [
              "[[0.803149402141571],\n",
              " [0.9295566082000732],\n",
              " [0.9116129875183105],\n",
              " [0.6248794198036194],\n",
              " [0.41479939222335815],\n",
              " [0.3419218361377716],\n",
              " [0.4032142460346222],\n",
              " [0.6087982654571533],\n",
              " [0.8115273118019104],\n",
              " [0.9193586111068726]]"
            ]
          },
          "metadata": {
            "tags": []
          },
          "execution_count": 28
        }
      ]
    },
    {
      "cell_type": "code",
      "metadata": {
        "colab": {
          "base_uri": "https://localhost:8080/",
          "height": 282
        },
        "id": "5iKdRvvubS7o",
        "outputId": "2de2ecb6-36af-4f76-fac3-3fe3f870aa14"
      },
      "source": [
        "#Selecting last 10 days input from the dataframe df1 for first plot\r\n",
        "plt.plot(previous_days1,scaler.inverse_transform(df1[len(df1)-n_steps:]))\r\n",
        "#Selecting predicted output from the listof the above function\r\n",
        "plt.plot(predicted_future1,scaler.inverse_transform(lst_output))"
      ],
      "execution_count": 29,
      "outputs": [
        {
          "output_type": "execute_result",
          "data": {
            "text/plain": [
              "[<matplotlib.lines.Line2D at 0x7f60aa7792e8>]"
            ]
          },
          "metadata": {
            "tags": []
          },
          "execution_count": 29
        },
        {
          "output_type": "display_data",
          "data": {
            "image/png": "[encoded data removed]",
            "text/plain": [
              "<Figure size 432x288 with 1 Axes>"
            ]
          },
          "metadata": {
            "tags": [],
            "needs_background": "light"
          }
        }
      ]
    },
    {
      "cell_type": "code",
      "metadata": {
        "colab": {
          "base_uri": "https://localhost:8080/",
          "height": 282
        },
        "id": "uujy72R2meW_",
        "outputId": "74d195b8-ab3d-4ac3-b3d7-ce5c940bebcc"
      },
      "source": [
        "plt.plot(np.append(previous_days1,predicted_future1),scaler.inverse_transform(outputlist[len(df1)-n_steps:]))\r\n",
        "plt.plot(predicted_future1,scaler.inverse_transform(lst_output))\r\n",
        "\r\n"
      ],
      "execution_count": 30,
      "outputs": [
        {
          "output_type": "execute_result",
          "data": {
            "text/plain": [
              "[<matplotlib.lines.Line2D at 0x7f60aa6f84a8>]"
            ]
          },
          "metadata": {
            "tags": []
          },
          "execution_count": 30
        },
        {
          "output_type": "display_data",
          "data": {
            "image/png": "[encoded data removed]",
            "text/plain": [
              "<Figure size 432x288 with 1 Axes>"
            ]
          },
          "metadata": {
            "tags": [],
            "needs_background": "light"
          }
        }
      ]
    },
    {
      "cell_type": "code",
      "metadata": {
        "colab": {
          "base_uri": "https://localhost:8080/",
          "height": 282
        },
        "id": "Sm9VOB93mB2b",
        "outputId": "22d1ac55-aafa-44bd-a77d-076b82c89f54"
      },
      "source": [
        "#Selecting last 10 days input from the dataframe df1 for first plot\r\n",
        "plt.plot(previous_days,scaler.inverse_transform(df1[len(df1)-n_steps:]))\r\n",
        "#Selecting predicted output from the listof the above function\r\n",
        "plt.plot(predicted_future,scaler.inverse_transform(lst_output))"
      ],
      "execution_count": 31,
      "outputs": [
        {
          "output_type": "execute_result",
          "data": {
            "text/plain": [
              "[<matplotlib.lines.Line2D at 0x7f60aa6c6d30>]"
            ]
          },
          "metadata": {
            "tags": []
          },
          "execution_count": 31
        },
        {
          "output_type": "display_data",
          "data": {
            "image/png": "[encoded data removed]",
            "text/plain": [
              "<Figure size 432x288 with 1 Axes>"
            ]
          },
          "metadata": {
            "tags": [],
            "needs_background": "light"
          }
        }
      ]
    },
    {
      "cell_type": "code",
      "metadata": {
        "colab": {
          "base_uri": "https://localhost:8080/",
          "height": 282
        },
        "id": "HeidnZlgCqLu",
        "outputId": "c5c17e53-08e1-484e-db78-5e34d045e7fd"
      },
      "source": [
        "plt.plot(scaler.inverse_transform(outputlist[len(df1)-n_steps-1:]))\r\n",
        "plt.plot(predicted_future,scaler.inverse_transform(lst_output))"
      ],
      "execution_count": 32,
      "outputs": [
        {
          "output_type": "execute_result",
          "data": {
            "text/plain": [
              "[<matplotlib.lines.Line2D at 0x7f60aa64eb38>]"
            ]
          },
          "metadata": {
            "tags": []
          },
          "execution_count": 32
        },
        {
          "output_type": "display_data",
          "data": {
            "image/png": "[encoded data removed]",
            "text/plain": [
              "<Figure size 432x288 with 1 Axes>"
            ]
          },
          "metadata": {
            "tags": [],
            "needs_background": "light"
          }
        }
      ]
    }
  ]
}